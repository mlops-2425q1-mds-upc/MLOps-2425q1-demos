{
 "cells": [
  {
   "cell_type": "markdown",
   "metadata": {},
   "source": [
    "# Getting Started with GX Core\n",
    "\n",
    "We will learn how to:\n",
    "\n",
    "- connect to data\n",
    "- create expectations\n",
    "- validate data\n",
    "- review validation results"
   ]
  },
  {
   "cell_type": "markdown",
   "metadata": {},
   "source": [
    "First of all, let's import the core library of Great Expectations.\n",
    "\n",
    "Specifically, the `great_expectations` module is the root of the GX Core library.</br>\n",
    "It contains shortcuts and convenience methods for starting a GX project in a Python session."
   ]
  },
  {
   "cell_type": "code",
   "execution_count": 1,
   "metadata": {},
   "outputs": [],
   "source": [
    "import great_expectations as gx\n",
    "import pandas as pd"
   ]
  },
  {
   "cell_type": "markdown",
   "metadata": {},
   "source": [
    "## Importing the data\n",
    "\n",
    "For this lab, we will be using a sample of [NYC taxi trip record data](https://www.nyc.gov/site/tlc/about/tlc-trip-record-data.page).\n",
    "\n",
    "> Yellow and green taxi trip records include fields capturing *pick-up and drop-off dates/times*, *pick-up and drop-off locations*, *trip distances*, *itemized fares*, *rate types*, *payment types*, and driver-reported *passenger counts*. The data used in the attached datasets were collected and provided to the NYC Taxi and Limousine Commission (TLC) by technology providers authorized under the Taxicab & Livery Passenger Enhancement Programs (TPEP/LPEP).\n",
    "\n",
    "Let's download and read the sample data into a Pandas DataFrame."
   ]
  },
  {
   "cell_type": "code",
   "execution_count": 2,
   "metadata": {},
   "outputs": [
    {
     "data": {
      "text/html": [
       "<div>\n",
       "<style scoped>\n",
       "    .dataframe tbody tr th:only-of-type {\n",
       "        vertical-align: middle;\n",
       "    }\n",
       "\n",
       "    .dataframe tbody tr th {\n",
       "        vertical-align: top;\n",
       "    }\n",
       "\n",
       "    .dataframe thead th {\n",
       "        text-align: right;\n",
       "    }\n",
       "</style>\n",
       "<table border=\"1\" class=\"dataframe\">\n",
       "  <thead>\n",
       "    <tr style=\"text-align: right;\">\n",
       "      <th></th>\n",
       "      <th>vendor_id</th>\n",
       "      <th>pickup_datetime</th>\n",
       "      <th>dropoff_datetime</th>\n",
       "      <th>passenger_count</th>\n",
       "      <th>trip_distance</th>\n",
       "      <th>rate_code_id</th>\n",
       "      <th>store_and_fwd_flag</th>\n",
       "      <th>pickup_location_id</th>\n",
       "      <th>dropoff_location_id</th>\n",
       "      <th>payment_type</th>\n",
       "      <th>fare_amount</th>\n",
       "      <th>extra</th>\n",
       "      <th>mta_tax</th>\n",
       "      <th>tip_amount</th>\n",
       "      <th>tolls_amount</th>\n",
       "      <th>improvement_surcharge</th>\n",
       "      <th>total_amount</th>\n",
       "      <th>congestion_surcharge</th>\n",
       "    </tr>\n",
       "  </thead>\n",
       "  <tbody>\n",
       "    <tr>\n",
       "      <th>0</th>\n",
       "      <td>1</td>\n",
       "      <td>2019-01-15 03:36:12</td>\n",
       "      <td>2019-01-15 03:42:19</td>\n",
       "      <td>1</td>\n",
       "      <td>1.0</td>\n",
       "      <td>1</td>\n",
       "      <td>N</td>\n",
       "      <td>230</td>\n",
       "      <td>48</td>\n",
       "      <td>1</td>\n",
       "      <td>6.5</td>\n",
       "      <td>0.5</td>\n",
       "      <td>0.5</td>\n",
       "      <td>1.95</td>\n",
       "      <td>0.0</td>\n",
       "      <td>0.3</td>\n",
       "      <td>9.75</td>\n",
       "      <td>NaN</td>\n",
       "    </tr>\n",
       "    <tr>\n",
       "      <th>1</th>\n",
       "      <td>1</td>\n",
       "      <td>2019-01-25 18:20:32</td>\n",
       "      <td>2019-01-25 18:26:55</td>\n",
       "      <td>1</td>\n",
       "      <td>0.8</td>\n",
       "      <td>1</td>\n",
       "      <td>N</td>\n",
       "      <td>112</td>\n",
       "      <td>112</td>\n",
       "      <td>1</td>\n",
       "      <td>6.0</td>\n",
       "      <td>1.0</td>\n",
       "      <td>0.5</td>\n",
       "      <td>1.55</td>\n",
       "      <td>0.0</td>\n",
       "      <td>0.3</td>\n",
       "      <td>9.35</td>\n",
       "      <td>0.0</td>\n",
       "    </tr>\n",
       "    <tr>\n",
       "      <th>2</th>\n",
       "      <td>1</td>\n",
       "      <td>2019-01-05 06:47:31</td>\n",
       "      <td>2019-01-05 06:52:19</td>\n",
       "      <td>1</td>\n",
       "      <td>1.1</td>\n",
       "      <td>1</td>\n",
       "      <td>N</td>\n",
       "      <td>107</td>\n",
       "      <td>4</td>\n",
       "      <td>2</td>\n",
       "      <td>6.0</td>\n",
       "      <td>0.0</td>\n",
       "      <td>0.5</td>\n",
       "      <td>0.00</td>\n",
       "      <td>0.0</td>\n",
       "      <td>0.3</td>\n",
       "      <td>6.80</td>\n",
       "      <td>NaN</td>\n",
       "    </tr>\n",
       "    <tr>\n",
       "      <th>3</th>\n",
       "      <td>1</td>\n",
       "      <td>2019-01-09 15:08:02</td>\n",
       "      <td>2019-01-09 15:20:17</td>\n",
       "      <td>1</td>\n",
       "      <td>2.5</td>\n",
       "      <td>1</td>\n",
       "      <td>N</td>\n",
       "      <td>143</td>\n",
       "      <td>158</td>\n",
       "      <td>1</td>\n",
       "      <td>11.0</td>\n",
       "      <td>0.0</td>\n",
       "      <td>0.5</td>\n",
       "      <td>3.00</td>\n",
       "      <td>0.0</td>\n",
       "      <td>0.3</td>\n",
       "      <td>14.80</td>\n",
       "      <td>NaN</td>\n",
       "    </tr>\n",
       "    <tr>\n",
       "      <th>4</th>\n",
       "      <td>1</td>\n",
       "      <td>2019-01-25 18:49:51</td>\n",
       "      <td>2019-01-25 18:56:44</td>\n",
       "      <td>1</td>\n",
       "      <td>0.8</td>\n",
       "      <td>1</td>\n",
       "      <td>N</td>\n",
       "      <td>246</td>\n",
       "      <td>90</td>\n",
       "      <td>1</td>\n",
       "      <td>6.5</td>\n",
       "      <td>1.0</td>\n",
       "      <td>0.5</td>\n",
       "      <td>1.65</td>\n",
       "      <td>0.0</td>\n",
       "      <td>0.3</td>\n",
       "      <td>9.95</td>\n",
       "      <td>0.0</td>\n",
       "    </tr>\n",
       "  </tbody>\n",
       "</table>\n",
       "</div>"
      ],
      "text/plain": [
       "   vendor_id      pickup_datetime     dropoff_datetime  passenger_count  \\\n",
       "0          1  2019-01-15 03:36:12  2019-01-15 03:42:19                1   \n",
       "1          1  2019-01-25 18:20:32  2019-01-25 18:26:55                1   \n",
       "2          1  2019-01-05 06:47:31  2019-01-05 06:52:19                1   \n",
       "3          1  2019-01-09 15:08:02  2019-01-09 15:20:17                1   \n",
       "4          1  2019-01-25 18:49:51  2019-01-25 18:56:44                1   \n",
       "\n",
       "   trip_distance  rate_code_id store_and_fwd_flag  pickup_location_id  \\\n",
       "0            1.0             1                  N                 230   \n",
       "1            0.8             1                  N                 112   \n",
       "2            1.1             1                  N                 107   \n",
       "3            2.5             1                  N                 143   \n",
       "4            0.8             1                  N                 246   \n",
       "\n",
       "   dropoff_location_id  payment_type  fare_amount  extra  mta_tax  tip_amount  \\\n",
       "0                   48             1          6.5    0.5      0.5        1.95   \n",
       "1                  112             1          6.0    1.0      0.5        1.55   \n",
       "2                    4             2          6.0    0.0      0.5        0.00   \n",
       "3                  158             1         11.0    0.0      0.5        3.00   \n",
       "4                   90             1          6.5    1.0      0.5        1.65   \n",
       "\n",
       "   tolls_amount  improvement_surcharge  total_amount  congestion_surcharge  \n",
       "0           0.0                    0.3          9.75                   NaN  \n",
       "1           0.0                    0.3          9.35                   0.0  \n",
       "2           0.0                    0.3          6.80                   NaN  \n",
       "3           0.0                    0.3         14.80                   NaN  \n",
       "4           0.0                    0.3          9.95                   0.0  "
      ]
     },
     "execution_count": 2,
     "metadata": {},
     "output_type": "execute_result"
    }
   ],
   "source": [
    "df = pd.read_csv(\n",
    "    \"https://raw.githubusercontent.com/great-expectations/gx_tutorials/main/data/yellow_tripdata_sample_2019-01.csv\"\n",
    ")\n",
    "df.head()"
   ]
  },
  {
   "cell_type": "markdown",
   "metadata": {},
   "source": [
    "### Create a **Data Context**\n",
    "\n",
    "A **Data Context** object serves as the entrypoint for interacting with GX components."
   ]
  },
  {
   "cell_type": "code",
   "execution_count": 3,
   "metadata": {},
   "outputs": [],
   "source": [
    "context = gx.get_context()"
   ]
  },
  {
   "cell_type": "markdown",
   "metadata": {},
   "source": [
    "### Connect to data and create a **Batch**\n",
    "\n",
    "Let's define:\n",
    "\n",
    "- a **Data Source**\n",
    "- a **Data Asset**\n",
    "- a **Batch Definition**\n",
    "- a **Batch**"
   ]
  },
  {
   "cell_type": "code",
   "execution_count": 4,
   "metadata": {},
   "outputs": [],
   "source": [
    "data_source = context.data_sources.add_pandas(\"pandas\")\n",
    "data_asset = data_source.add_dataframe_asset(name=\"pd dataframe asset\")\n",
    "\n",
    "batch_definition = data_asset.add_batch_definition_whole_dataframe(\"batch definition\")\n",
    "batch = batch_definition.get_batch(batch_parameters={\"dataframe\": df})"
   ]
  },
  {
   "cell_type": "markdown",
   "metadata": {},
   "source": [
    "### Create an **Expectation**\n",
    "\n",
    "We expect that the contents of the column `passenger_count` consist of values ranging from 1 to 6."
   ]
  },
  {
   "cell_type": "code",
   "execution_count": 5,
   "metadata": {},
   "outputs": [],
   "source": [
    "expectation = gx.expectations.ExpectColumnValuesToBeBetween(column=\"passenger_count\", min_value=1, max_value=6)"
   ]
  },
  {
   "cell_type": "markdown",
   "metadata": {},
   "source": [
    "### Validate the data batch\n",
    "\n",
    "Using the expectation you just created, validate the data batch."
   ]
  },
  {
   "cell_type": "code",
   "execution_count": 6,
   "metadata": {},
   "outputs": [
    {
     "name": "stderr",
     "output_type": "stream",
     "text": [
      "Calculating Metrics: 100%|██████████| 10/10 [00:00<00:00, 503.32it/s]\n"
     ]
    }
   ],
   "source": [
    "validation_result = batch.validate(expectation)"
   ]
  },
  {
   "cell_type": "code",
   "execution_count": 7,
   "metadata": {},
   "outputs": [
    {
     "name": "stdout",
     "output_type": "stream",
     "text": [
      "{\n",
      "  \"success\": true,\n",
      "  \"expectation_config\": {\n",
      "    \"type\": \"expect_column_values_to_be_between\",\n",
      "    \"kwargs\": {\n",
      "      \"batch_id\": \"pandas-pd dataframe asset\",\n",
      "      \"column\": \"passenger_count\",\n",
      "      \"min_value\": 1.0,\n",
      "      \"max_value\": 6.0\n",
      "    },\n",
      "    \"meta\": {}\n",
      "  },\n",
      "  \"result\": {\n",
      "    \"element_count\": 10000,\n",
      "    \"unexpected_count\": 0,\n",
      "    \"unexpected_percent\": 0.0,\n",
      "    \"partial_unexpected_list\": [],\n",
      "    \"missing_count\": 0,\n",
      "    \"missing_percent\": 0.0,\n",
      "    \"unexpected_percent_total\": 0.0,\n",
      "    \"unexpected_percent_nonmissing\": 0.0,\n",
      "    \"partial_unexpected_counts\": [],\n",
      "    \"partial_unexpected_index_list\": []\n",
      "  },\n",
      "  \"meta\": {},\n",
      "  \"exception_info\": {\n",
      "    \"raised_exception\": false,\n",
      "    \"exception_traceback\": null,\n",
      "    \"exception_message\": null\n",
      "  }\n",
      "}\n"
     ]
    }
   ],
   "source": [
    "print(validation_result)"
   ]
  },
  {
   "cell_type": "markdown",
   "metadata": {},
   "source": [
    "### Create an **Expectation Suite**"
   ]
  },
  {
   "cell_type": "code",
   "execution_count": 8,
   "metadata": {},
   "outputs": [],
   "source": [
    "suite = context.suites.add(\n",
    "    gx.core.expectation_suite.ExpectationSuite(\n",
    "        name=\"Taxi trip expectations\",\n",
    "    )\n",
    ")"
   ]
  },
  {
   "cell_type": "code",
   "execution_count": 9,
   "metadata": {},
   "outputs": [
    {
     "data": {
      "text/plain": [
       "ExpectColumnValuesToBeInSet(id='378fd399-b1a1-4e0a-893b-a9b287f8e718', meta=None, notes=None, result_format=<ResultFormat.BASIC: 'BASIC'>, description=None, catch_exceptions=True, rendered_content=None, windows=None, batch_id=None, row_condition=None, condition_parser=None, column='payment_type', mostly=1.0, value_set=[1, 2, 3, 4])"
      ]
     },
     "execution_count": 9,
     "metadata": {},
     "output_type": "execute_result"
    }
   ],
   "source": [
    "# Expectation 1\n",
    "suite.add_expectation(expectation)\n",
    "\n",
    "# Expectation 2\n",
    "suite.add_expectation(gx.expectations.ExpectColumnValuesToBeBetween(column=\"fare_amount\", min_value=0))\n",
    "\n",
    "# Expectation 3\n",
    "suite.add_expectation(gx.expectations.ExpectColumnValuesToNotBeNull(column=\"pickup_datetime\"))\n",
    "\n",
    "# Expectation 4\n",
    "suite.add_expectation(gx.expectations.ExpectColumnValuesToBeOfType(column=\"payment_type\", type_=\"int\"))\n",
    "\n",
    "# Expectation 5\n",
    "suite.add_expectation(gx.expectations.ExpectColumnValuesToNotBeNull(column=\"payment_type\"))\n",
    "\n",
    "# Expectation 6\n",
    "suite.add_expectation(gx.expectations.ExpectColumnValuesToBeInSet(column=\"payment_type\", value_set=[1, 2, 3, 4]))"
   ]
  },
  {
   "cell_type": "markdown",
   "metadata": {},
   "source": [
    "### Create a **Validation Definition**\n",
    "\n",
    "A **Validation Definition** explicitly ties together the Batch of data to be validated to the Expectation Suite that should be used to validate it."
   ]
  },
  {
   "cell_type": "code",
   "execution_count": 10,
   "metadata": {},
   "outputs": [],
   "source": [
    "validation_definition = context.validation_definitions.add(\n",
    "    gx.core.validation_definition.ValidationDefinition(name=\"Validation definition\", data=batch_definition, suite=suite)\n",
    ")"
   ]
  },
  {
   "cell_type": "markdown",
   "metadata": {},
   "source": [
    "### Create and run a **Checkpoint**\n",
    "\n",
    "Create and run a Checkpoint to validate the data based on the supplied Validation Definition."
   ]
  },
  {
   "cell_type": "code",
   "execution_count": 11,
   "metadata": {},
   "outputs": [
    {
     "name": "stderr",
     "output_type": "stream",
     "text": [
      "Calculating Metrics: 100%|██████████| 37/37 [00:00<00:00, 654.16it/s]"
     ]
    },
    {
     "name": "stdout",
     "output_type": "stream",
     "text": [
      "{\n",
      "    \"success\": false,\n",
      "    \"statistics\": {\n",
      "        \"evaluated_validations\": 1,\n",
      "        \"success_percent\": 0.0,\n",
      "        \"successful_validations\": 0,\n",
      "        \"unsuccessful_validations\": 1\n",
      "    },\n",
      "    \"validation_results\": [\n",
      "        {\n",
      "            \"success\": false,\n",
      "            \"statistics\": {\n",
      "                \"evaluated_expectations\": 6,\n",
      "                \"successful_expectations\": 5,\n",
      "                \"unsuccessful_expectations\": 1,\n",
      "                \"success_percent\": 83.33333333333334\n",
      "            },\n",
      "            \"expectations\": [\n",
      "                {\n",
      "                    \"expectation_type\": \"expect_column_values_to_be_between\",\n",
      "                    \"success\": true,\n",
      "                    \"kwargs\": {\n",
      "                        \"batch_id\": \"pandas-pd dataframe asset\",\n",
      "                        \"column\": \"passenger_count\",\n",
      "                        \"min_value\": 1.0,\n",
      "                        \"max_value\": 6.0\n",
      "                    },\n",
      "                    \"result\": {\n",
      "                        \"element_count\": 10000,\n",
      "                        \"unexpected_count\": 0,\n",
      "                        \"unexpected_percent\": 0.0,\n",
      "                        \"partial_unexpected_list\": [],\n",
      "                        \"missing_count\": 0,\n",
      "                        \"missing_percent\": 0.0,\n",
      "                        \"unexpected_percent_total\": 0.0,\n",
      "                        \"unexpected_percent_nonmissing\": 0.0,\n",
      "                        \"partial_unexpected_counts\": [],\n",
      "                        \"partial_unexpected_index_list\": []\n",
      "                    }\n",
      "                },\n",
      "                {\n",
      "                    \"expectation_type\": \"expect_column_values_to_be_between\",\n",
      "                    \"success\": false,\n",
      "                    \"kwargs\": {\n",
      "                        \"batch_id\": \"pandas-pd dataframe asset\",\n",
      "                        \"column\": \"fare_amount\",\n",
      "                        \"min_value\": 0.0\n",
      "                    },\n",
      "                    \"result\": {\n",
      "                        \"element_count\": 10000,\n",
      "                        \"unexpected_count\": 7,\n",
      "                        \"unexpected_percent\": 0.06999999999999999,\n",
      "                        \"partial_unexpected_list\": [\n",
      "                            -0.01,\n",
      "                            -52.0,\n",
      "                            -0.1,\n",
      "                            -5.5,\n",
      "                            -3.0,\n",
      "                            -52.0,\n",
      "                            -4.0\n",
      "                        ],\n",
      "                        \"missing_count\": 0,\n",
      "                        \"missing_percent\": 0.0,\n",
      "                        \"unexpected_percent_total\": 0.06999999999999999,\n",
      "                        \"unexpected_percent_nonmissing\": 0.06999999999999999,\n",
      "                        \"partial_unexpected_counts\": [\n",
      "                            {\n",
      "                                \"value\": -52.0,\n",
      "                                \"count\": 2\n",
      "                            },\n",
      "                            {\n",
      "                                \"value\": -5.5,\n",
      "                                \"count\": 1\n",
      "                            },\n",
      "                            {\n",
      "                                \"value\": -4.0,\n",
      "                                \"count\": 1\n",
      "                            },\n",
      "                            {\n",
      "                                \"value\": -3.0,\n",
      "                                \"count\": 1\n",
      "                            },\n",
      "                            {\n",
      "                                \"value\": -0.1,\n",
      "                                \"count\": 1\n",
      "                            },\n",
      "                            {\n",
      "                                \"value\": -0.01,\n",
      "                                \"count\": 1\n",
      "                            }\n",
      "                        ],\n",
      "                        \"partial_unexpected_index_list\": [\n",
      "                            486,\n",
      "                            4402,\n",
      "                            4516,\n",
      "                            6559,\n",
      "                            6782,\n",
      "                            7033,\n",
      "                            8740\n",
      "                        ]\n",
      "                    }\n",
      "                },\n",
      "                {\n",
      "                    \"expectation_type\": \"expect_column_values_to_not_be_null\",\n",
      "                    \"success\": true,\n",
      "                    \"kwargs\": {\n",
      "                        \"batch_id\": \"pandas-pd dataframe asset\",\n",
      "                        \"column\": \"pickup_datetime\"\n",
      "                    },\n",
      "                    \"result\": {\n",
      "                        \"element_count\": 10000,\n",
      "                        \"unexpected_count\": 0,\n",
      "                        \"unexpected_percent\": 0.0,\n",
      "                        \"partial_unexpected_list\": [],\n",
      "                        \"partial_unexpected_counts\": [],\n",
      "                        \"partial_unexpected_index_list\": []\n",
      "                    }\n",
      "                },\n",
      "                {\n",
      "                    \"expectation_type\": \"expect_column_values_to_be_of_type\",\n",
      "                    \"success\": true,\n",
      "                    \"kwargs\": {\n",
      "                        \"batch_id\": \"pandas-pd dataframe asset\",\n",
      "                        \"column\": \"payment_type\",\n",
      "                        \"type_\": \"int\"\n",
      "                    },\n",
      "                    \"result\": {\n",
      "                        \"observed_value\": \"int64\"\n",
      "                    }\n",
      "                },\n",
      "                {\n",
      "                    \"expectation_type\": \"expect_column_values_to_not_be_null\",\n",
      "                    \"success\": true,\n",
      "                    \"kwargs\": {\n",
      "                        \"batch_id\": \"pandas-pd dataframe asset\",\n",
      "                        \"column\": \"payment_type\"\n",
      "                    },\n",
      "                    \"result\": {\n",
      "                        \"element_count\": 10000,\n",
      "                        \"unexpected_count\": 0,\n",
      "                        \"unexpected_percent\": 0.0,\n",
      "                        \"partial_unexpected_list\": [],\n",
      "                        \"partial_unexpected_counts\": [],\n",
      "                        \"partial_unexpected_index_list\": []\n",
      "                    }\n",
      "                },\n",
      "                {\n",
      "                    \"expectation_type\": \"expect_column_values_to_be_in_set\",\n",
      "                    \"success\": true,\n",
      "                    \"kwargs\": {\n",
      "                        \"batch_id\": \"pandas-pd dataframe asset\",\n",
      "                        \"column\": \"payment_type\",\n",
      "                        \"value_set\": [\n",
      "                            1,\n",
      "                            2,\n",
      "                            3,\n",
      "                            4\n",
      "                        ]\n",
      "                    },\n",
      "                    \"result\": {\n",
      "                        \"element_count\": 10000,\n",
      "                        \"unexpected_count\": 0,\n",
      "                        \"unexpected_percent\": 0.0,\n",
      "                        \"partial_unexpected_list\": [],\n",
      "                        \"missing_count\": 0,\n",
      "                        \"missing_percent\": 0.0,\n",
      "                        \"unexpected_percent_total\": 0.0,\n",
      "                        \"unexpected_percent_nonmissing\": 0.0,\n",
      "                        \"partial_unexpected_counts\": [],\n",
      "                        \"partial_unexpected_index_list\": []\n",
      "                    }\n",
      "                }\n",
      "            ],\n",
      "            \"result_url\": null\n",
      "        }\n",
      "    ]\n",
      "}\n"
     ]
    },
    {
     "name": "stderr",
     "output_type": "stream",
     "text": [
      "\n"
     ]
    }
   ],
   "source": [
    "checkpoint = context.checkpoints.add(\n",
    "    gx.checkpoint.checkpoint.Checkpoint(name=\"checkpoint\", validation_definitions=[validation_definition])\n",
    ")\n",
    "checkpoint_result = checkpoint.run(batch_parameters={\"dataframe\": df})\n",
    "print(checkpoint_result.describe())"
   ]
  },
  {
   "cell_type": "markdown",
   "metadata": {},
   "source": [
    "---\n",
    "\n",
    "## References\n",
    "\n",
    "[1] https://docs.greatexpectations.io/docs/core/introduction/try_gx\n",
    "\n",
    "[2] [Expectations Gallery](https://greatexpectations.io/expectations/)"
   ]
  }
 ],
 "metadata": {
  "kernelspec": {
   "display_name": ".venv",
   "language": "python",
   "name": "python3"
  },
  "language_info": {
   "codemirror_mode": {
    "name": "ipython",
    "version": 3
   },
   "file_extension": ".py",
   "mimetype": "text/x-python",
   "name": "python",
   "nbconvert_exporter": "python",
   "pygments_lexer": "ipython3",
   "version": "3.10.15"
  }
 },
 "nbformat": 4,
 "nbformat_minor": 2
}
