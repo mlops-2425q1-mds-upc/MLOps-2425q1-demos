{
 "cells": [
  {
   "cell_type": "markdown",
   "metadata": {},
   "source": [
    "# Behavioral model testing"
   ]
  },
  {
   "cell_type": "markdown",
   "metadata": {},
   "source": [
    "In this notebook, we will apply behavioral model testing to a sentiment analysis model named [SentiStrength](https://mi-linux.wlv.ac.uk/~cm1993/sentistrength/).\n",
    "\n",
    "We will be calling SentiStrength through the web API of [BehaViz](https://behaviz.com), a sentiment analysis service offered by [PeoplewareAI](https://www.peopleware.ai)."
   ]
  },
  {
   "cell_type": "code",
   "execution_count": 1,
   "metadata": {},
   "outputs": [],
   "source": [
    "import behaviz_client_improved as bvz\n",
    "import pandas as pd"
   ]
  },
  {
   "cell_type": "code",
   "execution_count": 2,
   "metadata": {},
   "outputs": [],
   "source": [
    "bvz.Session.email = bvz.config[\"auth\"][\"email\"]\n",
    "bvz.Session.password = bvz.config[\"auth\"][\"password\"]"
   ]
  },
  {
   "cell_type": "markdown",
   "metadata": {},
   "source": [
    "## Invariance testing\n",
    "\n",
    "> *\"Changes in the input should not affect model output.\"*"
   ]
  },
  {
   "cell_type": "code",
   "execution_count": 3,
   "metadata": {},
   "outputs": [
    {
     "name": "stdout",
     "output_type": "stream",
     "text": [
      "Token request...\n",
      "Waiting 0.1 seconds for task completion...\n"
     ]
    }
   ],
   "source": [
    "tokens = [\"service\", \"solution\", \"product\"]\n",
    "texts = [f\"I'm so happy for the excellent {token} you provide!\" for token in tokens]\n",
    "\n",
    "classifier = bvz.BehavizModel.SENTISTRENGTH_EN\n",
    "task_id = bvz.submit_new_task(texts, classifier)\n",
    "results = bvz.get_results(task_id)"
   ]
  },
  {
   "cell_type": "code",
   "execution_count": 9,
   "metadata": {},
   "outputs": [
    {
     "data": {
      "text/plain": [
       "[{'sentence': \"I'm so happy for the excellent service you provide!\",\n",
       "  'score': {'positive': 5, 'negative': -1},\n",
       "  'label': 'positive'},\n",
       " {'sentence': \"I'm so happy for the excellent solution you provide!\",\n",
       "  'score': {'positive': 5, 'negative': -1},\n",
       "  'label': 'positive'},\n",
       " {'sentence': \"I'm so happy for the excellent product you provide!\",\n",
       "  'score': {'positive': 5, 'negative': -1},\n",
       "  'label': 'positive'}]"
      ]
     },
     "execution_count": 9,
     "metadata": {},
     "output_type": "execute_result"
    }
   ],
   "source": [
    "results"
   ]
  },
  {
   "cell_type": "code",
   "execution_count": 7,
   "metadata": {},
   "outputs": [
    {
     "data": {
      "text/html": [
       "<div>\n",
       "<style scoped>\n",
       "    .dataframe tbody tr th:only-of-type {\n",
       "        vertical-align: middle;\n",
       "    }\n",
       "\n",
       "    .dataframe tbody tr th {\n",
       "        vertical-align: top;\n",
       "    }\n",
       "\n",
       "    .dataframe thead th {\n",
       "        text-align: right;\n",
       "    }\n",
       "</style>\n",
       "<table border=\"1\" class=\"dataframe\">\n",
       "  <thead>\n",
       "    <tr style=\"text-align: right;\">\n",
       "      <th></th>\n",
       "      <th>Sentence</th>\n",
       "      <th>Positive</th>\n",
       "      <th>Negative</th>\n",
       "    </tr>\n",
       "  </thead>\n",
       "  <tbody>\n",
       "    <tr>\n",
       "      <th>0</th>\n",
       "      <td>I'm so happy for the excellent service you pro...</td>\n",
       "      <td>5</td>\n",
       "      <td>-1</td>\n",
       "    </tr>\n",
       "    <tr>\n",
       "      <th>1</th>\n",
       "      <td>I'm so happy for the excellent solution you pr...</td>\n",
       "      <td>5</td>\n",
       "      <td>-1</td>\n",
       "    </tr>\n",
       "    <tr>\n",
       "      <th>2</th>\n",
       "      <td>I'm so happy for the excellent product you pro...</td>\n",
       "      <td>5</td>\n",
       "      <td>-1</td>\n",
       "    </tr>\n",
       "  </tbody>\n",
       "</table>\n",
       "</div>"
      ],
      "text/plain": [
       "                                            Sentence  Positive  Negative\n",
       "0  I'm so happy for the excellent service you pro...         5        -1\n",
       "1  I'm so happy for the excellent solution you pr...         5        -1\n",
       "2  I'm so happy for the excellent product you pro...         5        -1"
      ]
     },
     "execution_count": 7,
     "metadata": {},
     "output_type": "execute_result"
    }
   ],
   "source": [
    "pd.DataFrame(\n",
    "    [(result[\"sentence\"], result[\"score\"][\"positive\"], result[\"score\"][\"negative\"]) for result in results],\n",
    "    columns=[\"Sentence\", \"Positive\", \"Negative\"],\n",
    ")"
   ]
  },
  {
   "cell_type": "code",
   "execution_count": 12,
   "metadata": {},
   "outputs": [],
   "source": [
    "for result in results:\n",
    "    assert (result[\"score\"][\"positive\"] + result[\"score\"][\"negative\"]) > 0"
   ]
  },
  {
   "cell_type": "markdown",
   "metadata": {},
   "source": [
    "## Directional testing\n",
    "\n",
    "> *\"Changes in the input should affect output.\"*"
   ]
  },
  {
   "cell_type": "code",
   "execution_count": 10,
   "metadata": {},
   "outputs": [
    {
     "name": "stdout",
     "output_type": "stream",
     "text": [
      "Waiting 0.1 seconds for task completion...\n"
     ]
    }
   ],
   "source": [
    "tokens = [\"love\", \"hate\", \"consider\"]\n",
    "texts = [f\"I will {token} BCN.\" for token in tokens]\n",
    "\n",
    "classifier = bvz.BehavizModel.SENTISTRENGTH_EN\n",
    "task_id = bvz.submit_new_task(texts, classifier)\n",
    "results = bvz.get_results(task_id)"
   ]
  },
  {
   "cell_type": "code",
   "execution_count": 11,
   "metadata": {},
   "outputs": [
    {
     "data": {
      "text/html": [
       "<div>\n",
       "<style scoped>\n",
       "    .dataframe tbody tr th:only-of-type {\n",
       "        vertical-align: middle;\n",
       "    }\n",
       "\n",
       "    .dataframe tbody tr th {\n",
       "        vertical-align: top;\n",
       "    }\n",
       "\n",
       "    .dataframe thead th {\n",
       "        text-align: right;\n",
       "    }\n",
       "</style>\n",
       "<table border=\"1\" class=\"dataframe\">\n",
       "  <thead>\n",
       "    <tr style=\"text-align: right;\">\n",
       "      <th></th>\n",
       "      <th>Sentence</th>\n",
       "      <th>Positive</th>\n",
       "      <th>Negative</th>\n",
       "    </tr>\n",
       "  </thead>\n",
       "  <tbody>\n",
       "    <tr>\n",
       "      <th>0</th>\n",
       "      <td>I will love BCN.</td>\n",
       "      <td>3</td>\n",
       "      <td>-1</td>\n",
       "    </tr>\n",
       "    <tr>\n",
       "      <th>1</th>\n",
       "      <td>I will hate BCN.</td>\n",
       "      <td>1</td>\n",
       "      <td>-4</td>\n",
       "    </tr>\n",
       "    <tr>\n",
       "      <th>2</th>\n",
       "      <td>I will consider BCN.</td>\n",
       "      <td>1</td>\n",
       "      <td>-1</td>\n",
       "    </tr>\n",
       "  </tbody>\n",
       "</table>\n",
       "</div>"
      ],
      "text/plain": [
       "               Sentence  Positive  Negative\n",
       "0      I will love BCN.         3        -1\n",
       "1      I will hate BCN.         1        -4\n",
       "2  I will consider BCN.         1        -1"
      ]
     },
     "execution_count": 11,
     "metadata": {},
     "output_type": "execute_result"
    }
   ],
   "source": [
    "pd.DataFrame(\n",
    "    [(result[\"sentence\"], result[\"score\"][\"positive\"], result[\"score\"][\"negative\"]) for result in results],\n",
    "    columns=[\"Sentence\", \"Positive\", \"Negative\"],\n",
    ")"
   ]
  },
  {
   "cell_type": "code",
   "execution_count": 13,
   "metadata": {},
   "outputs": [],
   "source": [
    "# The result is positive\n",
    "assert results[0][\"score\"][\"positive\"] + results[0][\"score\"][\"negative\"] > 0\n",
    "\n",
    "# The result is negative\n",
    "assert results[1][\"score\"][\"positive\"] + results[1][\"score\"][\"negative\"] < 0\n",
    "\n",
    "# The result is neutral\n",
    "assert results[2][\"score\"][\"positive\"] + results[2][\"score\"][\"negative\"] == 0"
   ]
  },
  {
   "cell_type": "markdown",
   "metadata": {},
   "source": [
    "## Minimum functionality testing\n",
    "\n",
    "> *\"Simple combination of inputs and expected outputs.\"*"
   ]
  },
  {
   "cell_type": "code",
   "execution_count": 14,
   "metadata": {},
   "outputs": [
    {
     "name": "stdout",
     "output_type": "stream",
     "text": [
      "Waiting 0.1 seconds for task completion...\n"
     ]
    }
   ],
   "source": [
    "tokens = [\"Hope\", \"Despair\", \"Eggs\"]\n",
    "texts = [f\"{token} is all we have left.\" for token in tokens]\n",
    "\n",
    "classifier = bvz.BehavizModel.SENTISTRENGTH_EN\n",
    "task_id = bvz.submit_new_task(texts, classifier)\n",
    "results = bvz.get_results(task_id)"
   ]
  },
  {
   "cell_type": "code",
   "execution_count": 15,
   "metadata": {},
   "outputs": [
    {
     "data": {
      "text/html": [
       "<div>\n",
       "<style scoped>\n",
       "    .dataframe tbody tr th:only-of-type {\n",
       "        vertical-align: middle;\n",
       "    }\n",
       "\n",
       "    .dataframe tbody tr th {\n",
       "        vertical-align: top;\n",
       "    }\n",
       "\n",
       "    .dataframe thead th {\n",
       "        text-align: right;\n",
       "    }\n",
       "</style>\n",
       "<table border=\"1\" class=\"dataframe\">\n",
       "  <thead>\n",
       "    <tr style=\"text-align: right;\">\n",
       "      <th></th>\n",
       "      <th>Sentence</th>\n",
       "      <th>Positive</th>\n",
       "      <th>Negative</th>\n",
       "    </tr>\n",
       "  </thead>\n",
       "  <tbody>\n",
       "    <tr>\n",
       "      <th>0</th>\n",
       "      <td>Hope is all we have left.</td>\n",
       "      <td>3</td>\n",
       "      <td>-1</td>\n",
       "    </tr>\n",
       "    <tr>\n",
       "      <th>1</th>\n",
       "      <td>Despair is all we have left.</td>\n",
       "      <td>1</td>\n",
       "      <td>-4</td>\n",
       "    </tr>\n",
       "    <tr>\n",
       "      <th>2</th>\n",
       "      <td>Eggs is all we have left.</td>\n",
       "      <td>1</td>\n",
       "      <td>-1</td>\n",
       "    </tr>\n",
       "  </tbody>\n",
       "</table>\n",
       "</div>"
      ],
      "text/plain": [
       "                       Sentence  Positive  Negative\n",
       "0     Hope is all we have left.         3        -1\n",
       "1  Despair is all we have left.         1        -4\n",
       "2     Eggs is all we have left.         1        -1"
      ]
     },
     "execution_count": 15,
     "metadata": {},
     "output_type": "execute_result"
    }
   ],
   "source": [
    "pd.DataFrame(\n",
    "    [(result[\"sentence\"], result[\"score\"][\"positive\"], result[\"score\"][\"negative\"]) for result in results],\n",
    "    columns=[\"Sentence\", \"Positive\", \"Negative\"],\n",
    ")"
   ]
  },
  {
   "cell_type": "code",
   "execution_count": 16,
   "metadata": {},
   "outputs": [],
   "source": [
    "# The result is positive\n",
    "assert results[0][\"score\"][\"positive\"] + results[0][\"score\"][\"negative\"] > 0\n",
    "\n",
    "# The result is negative\n",
    "assert results[1][\"score\"][\"positive\"] + results[1][\"score\"][\"negative\"] < 0\n",
    "\n",
    "# The result is neutral\n",
    "assert results[2][\"score\"][\"positive\"] + results[2][\"score\"][\"negative\"] == 0"
   ]
  }
 ],
 "metadata": {
  "kernelspec": {
   "display_name": ".venv",
   "language": "python",
   "name": "python3"
  },
  "language_info": {
   "codemirror_mode": {
    "name": "ipython",
    "version": 3
   },
   "file_extension": ".py",
   "mimetype": "text/x-python",
   "name": "python",
   "nbconvert_exporter": "python",
   "pygments_lexer": "ipython3",
   "version": "3.10.15"
  },
  "orig_nbformat": 4
 },
 "nbformat": 4,
 "nbformat_minor": 2
}
